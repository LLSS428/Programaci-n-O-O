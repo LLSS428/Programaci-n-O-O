{
  "nbformat": 4,
  "nbformat_minor": 0,
  "metadata": {
    "colab": {
      "provenance": [],
      "authorship_tag": "ABX9TyPtJFnuV/GeP2zMpC77Bkno",
      "include_colab_link": true
    },
    "kernelspec": {
      "name": "python3",
      "display_name": "Python 3"
    },
    "language_info": {
      "name": "python"
    }
  },
  "cells": [
    {
      "cell_type": "markdown",
      "metadata": {
        "id": "view-in-github",
        "colab_type": "text"
      },
      "source": [
        "<a href=\"https://colab.research.google.com/github/LLSS428/Programaci-n-O-O/blob/main/Programa2.ipynb\" target=\"_parent\"><img src=\"https://colab.research.google.com/assets/colab-badge.svg\" alt=\"Open In Colab\"/></a>"
      ]
    },
    {
      "cell_type": "code",
      "execution_count": null,
      "metadata": {
        "id": "z12w6mYD3_Tf"
      },
      "outputs": [],
      "source": []
    },
    {
      "cell_type": "markdown",
      "source": [
        "\n",
        "# **Programación Orientada a Objetos**\n",
        "## **Unidad 1.- Introducción a POO**\n",
        "### Maestro: José Gabriel Rodriguez Rivas\n",
        "### Alumno: Leonel ALberto Ontiveros Vera"
      ],
      "metadata": {
        "id": "5BzcA-hG4XBQ"
      }
    },
    {
      "cell_type": "code",
      "source": [
        "# Declarar Variables\n",
        "# En Python no hay necesidad de declarar el tipo de variable\n",
        "# Cuando se le asigna el valor, automaticamente python ya sabe de que tipo es\n",
        "# Python es CASE SENSITIVE, es decir que es sensible a mayusculas a la hora de\n",
        "# declarar variables, por lo tanto no es lo mismo la variable x que la variable X\n",
        "X=5\n",
        "msg=\"Hola Mundo\"\n",
        "print(X, msg)"
      ],
      "metadata": {
        "colab": {
          "base_uri": "https://localhost:8080/"
        },
        "id": "u5PBBc_J6LFp",
        "outputId": "8e36f6f2-ead3-439d-80ed-dc5fdfb7a0a2"
      },
      "execution_count": null,
      "outputs": [
        {
          "output_type": "stream",
          "name": "stdout",
          "text": [
            "5 Hola Mundo\n"
          ]
        }
      ]
    },
    {
      "cell_type": "code",
      "source": [
        "# Python es debilmente tipado, es decir, no hay necesidad de declarar el tipo\n",
        "# de variable, y además, la misma variable en un momento puede ser entera y en\n",
        "# otra string o booleana\n",
        "X=1\n",
        "print(type (X))\n",
        "X=\"Hola\"\n",
        "print(type (X))"
      ],
      "metadata": {
        "colab": {
          "base_uri": "https://localhost:8080/"
        },
        "id": "VMAHiL326oHd",
        "outputId": "9b4357d6-9668-480c-f2d5-5045185b9415"
      },
      "execution_count": 3,
      "outputs": [
        {
          "output_type": "stream",
          "name": "stdout",
          "text": [
            "<class 'int'>\n",
            "<class 'str'>\n"
          ]
        }
      ]
    },
    {
      "cell_type": "code",
      "source": [
        "# Input es para el ingreso de datos por parte del usuario\n",
        "variable=input(\"Escribe tu nombre: \")\n",
        "print(\"Tu nombre es: \", variable)"
      ],
      "metadata": {
        "colab": {
          "base_uri": "https://localhost:8080/"
        },
        "id": "PpRk8ZqgbL8G",
        "outputId": "d0a5fad2-0a4d-4ba0-ae0a-ee07f8a5350e"
      },
      "execution_count": 5,
      "outputs": [
        {
          "output_type": "stream",
          "name": "stdout",
          "text": [
            "Escribe tu nombre: Chadbezuko\n",
            "Tu nombre es:  Chadbezuko\n"
          ]
        }
      ]
    },
    {
      "cell_type": "code",
      "source": [
        "# \\n es para dar un salto de renglon\n",
        "nom=input(\"¿Me puedes dar tu nombre porfavor? \")\n",
        "apll=input(\"¿Me puedes dar tu apellido porfavor? \")\n",
        "print(\"Gracias\")\n",
        "print(\"\\nTu nombre es\",nom,apll,\".\")"
      ],
      "metadata": {
        "colab": {
          "base_uri": "https://localhost:8080/"
        },
        "id": "dwJQFUqAcX4Q",
        "outputId": "a4892edd-fc24-46b0-99fe-2ac1189fab2a"
      },
      "execution_count": 9,
      "outputs": [
        {
          "output_type": "stream",
          "name": "stdout",
          "text": [
            "¿Me puedes dar tu nombre porfavor? Fernan\n",
            "¿Me puedes dar tu apellido porfavor? El Crack\n",
            "Gracias\n",
            "\n",
            "Tu nombre es Fernan El Crack .\n"
          ]
        }
      ]
    },
    {
      "cell_type": "code",
      "source": [
        "# El dato ingresado en input se forma de tipo stirng, y al multiplicar\n",
        "# lo que hace es concatenarlo 5 veces en este caso\n",
        "x=input(\"Dame un numero para multiplicar \")\n",
        "z=x*5\n",
        "print(z)"
      ],
      "metadata": {
        "colab": {
          "base_uri": "https://localhost:8080/"
        },
        "id": "JCFDwbIKefQP",
        "outputId": "2f1f8185-6d00-40f5-d5ec-77fe5443cd6a"
      },
      "execution_count": 13,
      "outputs": [
        {
          "output_type": "stream",
          "name": "stdout",
          "text": [
            "Dame un numero para multiplicar 5\n",
            "55555\n"
          ]
        }
      ]
    },
    {
      "cell_type": "code",
      "source": [
        "# Se especifica el tipo de dato el cual se va a ingresar antes del input\n",
        "x=int(input(\"Dame un numero para multiplicar \"))\n",
        "z=x*5\n",
        "print(z)"
      ],
      "metadata": {
        "colab": {
          "base_uri": "https://localhost:8080/"
        },
        "id": "td8-bKmQfXi4",
        "outputId": "a51cd3e9-7fe0-46de-a528-462249a7c578"
      },
      "execution_count": 12,
      "outputs": [
        {
          "output_type": "stream",
          "name": "stdout",
          "text": [
            "Dame un numero para multiplicar 5\n",
            "25\n"
          ]
        }
      ]
    },
    {
      "cell_type": "code",
      "source": [
        "# El doble asterisco ** es para elevar a una potencia, en este caso al cuadrado\n",
        "cateto_a=float(input(\"Inserta la longitu del primer cateto: \"))\n",
        "cateto_b=float(input(\"Inserta la longitu del Segundo cateto: \"))\n",
        "hipo=(cateto_a**2+cateto_b**2)**.5\n",
        "print(\"La longitud de la hipotenusa es: \",hipo)"
      ],
      "metadata": {
        "colab": {
          "base_uri": "https://localhost:8080/"
        },
        "id": "OgCFT7Inf5P1",
        "outputId": "ad49284f-3f6c-4d9c-c144-046dbdc00805"
      },
      "execution_count": 18,
      "outputs": [
        {
          "output_type": "stream",
          "name": "stdout",
          "text": [
            "Inserta la longitu del primer cateto: 12\n",
            "Inserta la longitu del Segundo cateto: 8\n",
            "La longitud de la hipotenusa es:  14.422205101855956\n"
          ]
        }
      ]
    }
  ]
}