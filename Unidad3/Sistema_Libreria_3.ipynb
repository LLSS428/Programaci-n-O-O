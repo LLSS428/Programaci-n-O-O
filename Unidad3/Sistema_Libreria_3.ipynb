{
  "nbformat": 4,
  "nbformat_minor": 0,
  "metadata": {
    "colab": {
      "provenance": [],
      "authorship_tag": "ABX9TyO7AeUGZgrKiCjxiSKibUpN",
      "include_colab_link": true
    },
    "kernelspec": {
      "name": "python3",
      "display_name": "Python 3"
    },
    "language_info": {
      "name": "python"
    }
  },
  "cells": [
    {
      "cell_type": "markdown",
      "metadata": {
        "id": "view-in-github",
        "colab_type": "text"
      },
      "source": [
        "<a href=\"https://colab.research.google.com/github/LLSS428/Programaci-n-O-O/blob/main/Unidad3/Sistema_Libreria_3.ipynb\" target=\"_parent\"><img src=\"https://colab.research.google.com/assets/colab-badge.svg\" alt=\"Open In Colab\"/></a>"
      ]
    },
    {
      "cell_type": "markdown",
      "source": [
        "# **Programación Orientada a Objetos**\n",
        "## Unidad 3\n",
        "### Sistema Libreria 3\n",
        "### Profesor: José Gabriel Rodriguez Rivas\n",
        "### Alumno: Leonel Alberto Ontiveros Vera"
      ],
      "metadata": {
        "id": "B3U9OXt00tv_"
      }
    },
    {
      "cell_type": "code",
      "execution_count": 1,
      "metadata": {
        "id": "kK3aJXKq0eWT"
      },
      "outputs": [],
      "source": [
        "class Libro:\n",
        "    def __init__(self, isbn, titulo, autor, categoria, precio):\n",
        "        self.isbn = isbn\n",
        "        self.titulo = titulo\n",
        "        self.autor = autor\n",
        "        self.categoria = categoria\n",
        "        self.precio = precio\n",
        "\n",
        "    def mostrar_info(self):\n",
        "        print(f\"[{self.isbn}] {self.titulo} - {self.autor} | {self.categoria} | ${self.precio}\")"
      ]
    },
    {
      "cell_type": "code",
      "source": [
        "class Persona:\n",
        "    def __init__(self,nombre,correo,fecha_nacimiento):\n",
        "        self.nombre = nombre\n",
        "        self.correo = correo\n",
        "        self.fecha_nacimiento = fecha_nacimiento\n",
        "\n",
        "    def mostrar_info(self):\n",
        "        print(f\"Nombre: {self.nombre} | Correo: {self.correo} | Fecha de nacimiento: {self.fecha_nacimiento}\")"
      ],
      "metadata": {
        "id": "IUD4LPvF1Aou"
      },
      "execution_count": 2,
      "outputs": []
    },
    {
      "cell_type": "code",
      "source": [
        "# subclase estudiante\n",
        "class Estudiante(Persona):\n",
        "    def __init__(self, num_control, nombre, carrera, fecha_nacimiento, telefono, correo):\n",
        "        super().__init__(nombre, correo, fecha_nacimiento)\n",
        "        self.num_control = num_control\n",
        "        self.nombre = nombre\n",
        "        self.carrera = carrera\n",
        "        self.fecha_nacimiento = fecha_nacimiento\n",
        "        self.telefono = telefono\n",
        "        self.correo = correo\n",
        "\n",
        "    def mostrar_info(self):\n",
        "        print(f\"[Estudiante] {self.num_control} | {self.nombre} | {self.carrera} | Telefono: {self.telefono} | Fecha de nacimiento: {self.fecha_nacimiento} | Correo: {self.correo}\")"
      ],
      "metadata": {
        "id": "g8VB77jM0-LN"
      },
      "execution_count": 3,
      "outputs": []
    },
    {
      "cell_type": "code",
      "source": [
        "# subclase trabajador\n",
        "class Trabajador(Persona):\n",
        "    def __init__(self,num_trabajador, nombre, correo, fecha_nacimiento, departamento):\n",
        "        super().__init__(nombre, correo, fecha_nacimiento)\n",
        "        self.num_trabajador = num_trabajador\n",
        "        self.nombre = nombre\n",
        "        self.correo = correo\n",
        "        self.fecha_nacimiento = fecha_nacimiento\n",
        "        self.departamento = departamento\n",
        "\n",
        "# contador_prestamos = Variable de clase:\n",
        "# Se define directamente dentro de la clase, pero fuera de cualquier metodo.\n",
        "# En este caso, contador_prestamos = 1 está definida justo debajo de class Prestamo:.\n",
        "# La Variable es Compartida por todas las instancias de la clase.\n",
        "# Es decir, todas las instancias de Prestamo acceden al mismo valor de contador_prestamos.\n",
        "# Se accede mediante Prestamo.contador_prestamos, no mediante self.contador_prestamos."
      ],
      "metadata": {
        "id": "N61tgVd61Mol"
      },
      "execution_count": 4,
      "outputs": []
    },
    {
      "cell_type": "code",
      "source": [
        "class Prestamo:\n",
        "    contador_prestamos = 1\n",
        "\n",
        "    def __init__(self, num_control, isbn, folio_copia, fecha_inicio, fecha_termino):\n",
        "        self.folio = Prestamo.contador_prestamos\n",
        "        Prestamo.contador_prestamos += 1\n",
        "        self.num_control = num_control\n",
        "        self.isbn = isbn\n",
        "        self.folio_copia = folio_copia\n",
        "        self.fecha_inicio = fecha_inicio\n",
        "        self.fecha_termino = fecha_termino\n",
        "\n",
        "    def mostrar_info(self):\n",
        "        print(f\"Folio préstamo: {self.folio} | Copia: {self.folio_copia} | Estudiante: {self.num_control} | Libro: {self.isbn} | Del {self.fecha_inicio} al {self.fecha_termino}\")"
      ],
      "metadata": {
        "id": "hNZsh9us1R4g"
      },
      "execution_count": 5,
      "outputs": []
    },
    {
      "cell_type": "code",
      "source": [
        "class Venta:\n",
        "    contador_ventas = 1\n",
        "\n",
        "    def __init__(self, isbn, num_control, fecha, cantidad, importe):\n",
        "        self.folio_venta = Venta.contador_ventas\n",
        "        Venta.contador_ventas += 1\n",
        "        self.isbn = isbn\n",
        "        self.num_control = num_control\n",
        "        self.fecha = fecha\n",
        "        self.cantidad = cantidad\n",
        "        self.importe = importe\n",
        "\n",
        "    def mostrar_info(self):\n",
        "        print(f\"Folio: {self.folio_venta} | ISBN: {self.isbn} | Comprador: {self.num_control} | Fecha: {self.fecha} | Cantidad: {self.cantidad} | Importe: ${self.importe}\")"
      ],
      "metadata": {
        "id": "7YfMVF5K1XkT"
      },
      "execution_count": 6,
      "outputs": []
    },
    {
      "cell_type": "code",
      "source": [
        "class Inventario:\n",
        "    def __init__(self,libro,cantidad):\n",
        "        self.libro = libro\n",
        "        self.prestados=0\n",
        "        self.vendidos=0\n",
        "\n",
        "    def disponibles(self):\n",
        "        return self.total - self.prestados - self.vendidos\n",
        "\n",
        "    def prestar(self):\n",
        "        if self.disponibles() > 0:\n",
        "            self.prestados+= 1\n",
        "            return True\n",
        "        return False\n",
        "\n",
        "    def devolver(self):\n",
        "        if self.prestados > 0:\n",
        "            self.vendidos -= 1\n",
        "            return True\n",
        "        return False\n",
        "\n",
        "    def vender(self):\n",
        "        if self.disponibles() > 0:\n",
        "            self.vendidos += 1\n",
        "            return True\n",
        "        return False\n",
        "\n",
        "    def mostrar_estado(self):\n",
        "        l = self.libro\n",
        "        print(f\"[{l.isbn}] {l.titulo} - {l.autor} | Total: {self.total} | \"\n",
        "              f\"Disponibles: {self.disponibles()} | Prestados: {self.presatos} | Vendidos: {self.vendidos}\")"
      ],
      "metadata": {
        "id": "tHTGC4-_1fqv"
      },
      "execution_count": 7,
      "outputs": []
    },
    {
      "cell_type": "code",
      "source": [
        "def alta_libro():\n",
        "    print(\"\\n--- Alta de Libro ---\")\n",
        "    isbn = input(\"ISBN: \")\n",
        "    for inv in inventarios:\n",
        "        if inv.libro.isbn == isbn:\n",
        "            print(\"¡Ya existe un libro con ese ISBN!\")\n",
        "            return\n",
        "    titulo = input(\"Título: \")\n",
        "    autor = input(\"Autor: \")\n",
        "    categoria = input(\"Categoría: \")\n",
        "    try:\n",
        "        precio = float(input(\"Precio: \"))\n",
        "    except ValueError:\n",
        "        print(\"Precio inválido.\")\n",
        "        return\n",
        "    try:\n",
        "        cantidad = int(input(\"Cantidad en inventario: \"))\n",
        "    except ValueError:\n",
        "        print(\"Cantidad invalida.\")\n",
        "        return\n",
        "    nuevo_libro = Libro(isbn, titulo, autor, categoria, precio)\n",
        "    inventario_item = Inventario(nuevo_libro, cantidad)\n",
        "    inventarios.append(inventario_item)\n",
        "    print(\"Libro agregado al inventario.\")"
      ],
      "metadata": {
        "id": "85yab8a11pnu"
      },
      "execution_count": 8,
      "outputs": []
    },
    {
      "cell_type": "code",
      "source": [
        "def alta_estudiante():\n",
        "    print(\"\\n--- Alta de Estudiante ---\")\n",
        "    num_control = input(\"Número de control: \")\n",
        "    for est in estudiantes:\n",
        "        if est.num_control == num_control:\n",
        "            print(\"¡Ya existe un estudiante con ese número de control!\")\n",
        "            return\n",
        "    nombre = input(\"Nombre: \")\n",
        "    carrera = input(\"Carrera: \")\n",
        "    fecha_nacimiento = input(\"Fecha de nacimiento (dd/mm/aaaa): \")\n",
        "    telefono = input(\"Teléfono: \")\n",
        "    correo = input(\"Correo electrónico: \")\n",
        "    nuevo_estudiante = Estudiante(num_control, nombre, carrera, fecha_nacimiento, telefono, correo)\n",
        "    estudiantes.append(nuevo_estudiante)\n",
        "    print(\"Estudiante registrado exitosamente.\")"
      ],
      "metadata": {
        "id": "cXtBhv0z1u9V"
      },
      "execution_count": 9,
      "outputs": []
    },
    {
      "cell_type": "code",
      "source": [
        "def alta_estudiante():\n",
        "    print(\"\\n--- Alta de Estudiante ---\")\n",
        "    num_control = input(\"Número de control: \")\n",
        "    for est in estudiantes:\n",
        "        if est.num_control == num_control:\n",
        "            print(\"¡Ya existe un estudiante con ese número de control!\")\n",
        "            return\n",
        "    nombre = input(\"Nombre: \")\n",
        "    carrera = input(\"Carrera: \")\n",
        "    fecha_nacimiento = input(\"Fecha de nacimiento (dd/mm/aaaa): \")\n",
        "    telefono = input(\"Teléfono: \")\n",
        "    correo = input(\"Correo electrónico: \")\n",
        "    nuevo_estudiante = Estudiante(num_control, nombre, carrera, fecha_nacimiento, telefono, correo)\n",
        "    estudiantes.append(nuevo_estudiante)\n",
        "    print(\"Estudiante registrado exitosamente.\")\n",
        "\n",
        "\n",
        "def consultar_libro():\n",
        "    print(\"\\n--- Consultar Libro por ISBN ---\")\n",
        "    isbn = input(\"Ingrese el ISBN del libro: \")\n",
        "    for libro in libros:\n",
        "        if libro.isbn == isbn:\n",
        "            libro.mostrar_info()\n",
        "            return\n",
        "    print(\"Libro no encontrado.\")"
      ],
      "metadata": {
        "id": "XTLwBw6P12Uu"
      },
      "execution_count": 10,
      "outputs": []
    },
    {
      "cell_type": "code",
      "source": [
        "def consultar_estudiante():\n",
        "    print(\"\\n--- Consultar Estudiante por Número de Control ---\")\n",
        "    num_control = input(\"Ingrese el número de control: \")\n",
        "    for est in estudiantes:\n",
        "        if est.num_control == num_control:\n",
        "            est.mostrar_info()\n",
        "            return\n",
        "    print(\"Estudiante no encontrado.\")"
      ],
      "metadata": {
        "id": "UISxxOKY2J2Y"
      },
      "execution_count": 11,
      "outputs": []
    },
    {
      "cell_type": "code",
      "source": [
        "def mostrar_inventario():\n",
        "    print(\"\\n--- Inventario de Todos los Libros ---\")\n",
        "    if not inventarios:\n",
        "        print(\"Inventario vacío.\")\n",
        "    else:\n",
        "        for item in inventarios:\n",
        "            item.mostrar_estado()"
      ],
      "metadata": {
        "id": "Ll_UVDqY2M43"
      },
      "execution_count": 12,
      "outputs": []
    },
    {
      "cell_type": "code",
      "source": [
        "def mostrar_todos_estudiantes():\n",
        "    print(\"\\n--- Lista de Todos los Estudiantes ---\")\n",
        "    if not estudiantes:\n",
        "        print(\"No hay estudiantes registrados.\")\n",
        "    else:\n",
        "        for est in estudiantes:\n",
        "            est.mostrar_info()"
      ],
      "metadata": {
        "id": "qdoYcrEO2Tds"
      },
      "execution_count": 13,
      "outputs": []
    },
    {
      "cell_type": "code",
      "source": [
        "def realizar_prestamo():\n",
        "    print(\"\\n--- Realizar Préstamo ---\")\n",
        "    num_control = input(\"Número de control del estudiante: \")\n",
        "    estudiante = next((e for e in estudiantes if e.num_control == num_control), None)\n",
        "    if not estudiante:\n",
        "        print(\"Estudiante no encontrado.\")\n",
        "        return\n",
        "\n",
        "    isbn = input(\"ISBN del libro: \")\n",
        "    libro = next((i for i in inventarios if i.libro.isbn == isbn), None)\n",
        "    if not libro:\n",
        "        print(\"Libro no encontrado.\")\n",
        "        return\n",
        "    if not libro.prestar():\n",
        "        print(\"No hay copias disponibles.\")\n",
        "        return\n",
        "\n",
        "    fecha_inicio = input(\"Fecha inicio: \")\n",
        "    fecha_termino = input(\"Fecha término: \")\n",
        "    prestamo = Prestamo(num_control, isbn, fecha_inicio, fecha_termino)\n",
        "    prestamos.append(prestamo)\n",
        "    print(\"Préstamo registrado.\")"
      ],
      "metadata": {
        "id": "NQveXl-K2W5O"
      },
      "execution_count": 14,
      "outputs": []
    },
    {
      "cell_type": "code",
      "source": [
        "def mostrar_prestamos():\n",
        "    print(\"\\n--- Lista de Préstamos ---\")\n",
        "    if not prestamos:\n",
        "        print(\"No hay préstamos registrados.\")\n",
        "    else:\n",
        "        for p in prestamos:\n",
        "            p.mostrar_info()"
      ],
      "metadata": {
        "id": "lcx1qW862e1-"
      },
      "execution_count": 15,
      "outputs": []
    },
    {
      "cell_type": "code",
      "source": [
        "def devolver_libro():\n",
        "    print(\"\\n--- Devolver Libro ---\")\n",
        "    try:\n",
        "        folio = int(input(\"Folio del préstamo: \"))\n",
        "    except ValueError:\n",
        "        print(\"Folio inválido.\")\n",
        "        return\n",
        "\n",
        "    prestado = next((x for x in prestamos if x.folio == folio), None)\n",
        "    if not prestado:\n",
        "        print(\"Préstamo no encontrado.\")\n",
        "        return\n",
        "\n",
        "    libro = next((i for i in inventarios if i.libro.isbn == p.isbn), None)\n",
        "    if libro:\n",
        "        libro.devolver()\n",
        "    prestamos.remove(prestado)\n",
        "    print(\"Libro devuelto.\")"
      ],
      "metadata": {
        "id": "Emge-X7l2joY"
      },
      "execution_count": 16,
      "outputs": []
    },
    {
      "cell_type": "code",
      "source": [
        "def registrar_venta():\n",
        "    print(\"\\n--- Registrar Venta ---\")\n",
        "    isbn = input(\"ISBN del libro a vender: \")\n",
        "    libro = next((l for l in libros if l.isbn == isbn), None)\n",
        "    if not libro:\n",
        "        print(\"Libro no encontrado.\")\n",
        "        return\n",
        "    try:\n",
        "        cantidad = int(input(\"Cantidad a vender (solo 1 por ahora): \"))\n",
        "        if cantidad != 1:\n",
        "            print(\"Solo se permite vender 1 unidad.\")\n",
        "            return\n",
        "    except ValueError:\n",
        "        print(\"Cantidad inválida.\")\n",
        "        return\n",
        "    num_control = input(\"Número de control del comprador (999999 si es público general): \")\n",
        "    if num_control != \"999999\":\n",
        "        estudiante = next((e for e in estudiantes if e.num_control == num_control), None)\n",
        "        if not estudiante:\n",
        "            print(\"Estudiante no encontrado.\")\n",
        "            return\n",
        "    fecha = input(\"Fecha de la venta (dd/mm/aaaa): \")\n",
        "    importe = libro.precio * cantidad\n",
        "    venta = Venta(isbn, num_control, fecha, cantidad, importe)\n",
        "    ventas.append(venta)\n",
        "    libros.remove(libro)\n",
        "    print(f\"Venta registrada. Folio: {venta.folio_venta}\")"
      ],
      "metadata": {
        "id": "lWMsEGT-2oDp"
      },
      "execution_count": 17,
      "outputs": []
    },
    {
      "cell_type": "code",
      "source": [
        "def mostrar_historial_ventas():\n",
        "    print(\"\\n--- Historial de Ventas ---\")\n",
        "    if not ventas:\n",
        "        print(\"No hay ventas registradas.\")\n",
        "    else:\n",
        "        for v in ventas:\n",
        "            v.mostrar_info()"
      ],
      "metadata": {
        "id": "0fvsbl7K204G"
      },
      "execution_count": 18,
      "outputs": []
    },
    {
      "cell_type": "code",
      "source": [
        "def mostrar_menu():\n",
        "    print(\"\\n--- SISTEMA DE LIBRERÍA ESCOLAR ---\")\n",
        "    print(\"1. Dar de alta libro\")\n",
        "    print(\"2. Dar de alta estudiante\")\n",
        "    print(\"3. Consultar libro por ISBN\")\n",
        "    print(\"4. Consultar estudiante por número de control\")\n",
        "    print(\"5. Mostrar todos los libros\")\n",
        "    print(\"6. Mostrar todos los estudiantes\")\n",
        "    print(\"7. Realizar préstamo\")\n",
        "    print(\"8. Mostrar préstamos\")\n",
        "    print(\"9. Devolver libro\")\n",
        "    print(\"10. Registrar ventas\")\n",
        "    print(\"11. Mostrar historial de Venta\")\n",
        "    print(\"12. Salir del sistema\")"
      ],
      "metadata": {
        "id": "GThICgmL24B0"
      },
      "execution_count": 19,
      "outputs": []
    },
    {
      "cell_type": "code",
      "source": [
        "def iniciar_sistema():\n",
        "    while True:\n",
        "        mostrar_menu()\n",
        "        opcion = input(\"Seleccione una opción: \")\n",
        "        if opcion == \"1\":\n",
        "            alta_libro()\n",
        "        elif opcion == \"2\":\n",
        "            alta_estudiante()\n",
        "        elif opcion == \"3\":\n",
        "            consultar_libro()\n",
        "        elif opcion == \"4\":\n",
        "            consultar_estudiante()\n",
        "        elif opcion == \"5\":\n",
        "            mostrar_inventario()\n",
        "        elif opcion == \"6\":\n",
        "            mostrar_todos_estudiantes()\n",
        "        elif opcion == \"7\":\n",
        "            realizar_prestamo()\n",
        "        elif opcion == \"8\":\n",
        "            mostrar_prestamos()\n",
        "        elif opcion == \"9\":\n",
        "            devolver_libro()\n",
        "        elif opcion == \"10\":\n",
        "            registrar_venta()\n",
        "        elif opcion == \"11\":\n",
        "            mostrar_historial_ventas()\n",
        "        elif opcion == \"12\":\n",
        "            print(\"Saliendo del sistema. ¡Hasta luego!\")\n",
        "            break\n",
        "        else:\n",
        "            print(\"Opción no válida. Intente de nuevo.\")"
      ],
      "metadata": {
        "id": "UCqpqkYB29B3"
      },
      "execution_count": 20,
      "outputs": []
    },
    {
      "cell_type": "code",
      "source": [
        "##  Programa principal\n",
        "libros = []\n",
        "inventarios = []\n",
        "estudiantes = []\n",
        "prestamos = []\n",
        "ventas = []\n",
        "copias = []"
      ],
      "metadata": {
        "id": "8qoFY2C13BQP"
      },
      "execution_count": 21,
      "outputs": []
    },
    {
      "cell_type": "code",
      "source": [
        "# Iniciar el sistema\n",
        "iniciar_sistema()"
      ],
      "metadata": {
        "colab": {
          "base_uri": "https://localhost:8080/",
          "height": 564
        },
        "id": "Zf4lly8k3GF5",
        "outputId": "3c8749fe-ce4b-47d5-b1ea-389e48febb60"
      },
      "execution_count": 22,
      "outputs": [
        {
          "output_type": "stream",
          "name": "stdout",
          "text": [
            "\n",
            "--- SISTEMA DE LIBRERÍA ESCOLAR ---\n",
            "1. Dar de alta libro\n",
            "2. Dar de alta estudiante\n",
            "3. Consultar libro por ISBN\n",
            "4. Consultar estudiante por número de control\n",
            "5. Mostrar todos los libros\n",
            "6. Mostrar todos los estudiantes\n",
            "7. Realizar préstamo\n",
            "8. Mostrar préstamos\n",
            "9. Devolver libro\n",
            "10. Registrar ventas\n",
            "11. Mostrar historial de Venta\n",
            "12. Salir del sistema\n"
          ]
        },
        {
          "output_type": "error",
          "ename": "KeyboardInterrupt",
          "evalue": "Interrupted by user",
          "traceback": [
            "\u001b[0;31m---------------------------------------------------------------------------\u001b[0m",
            "\u001b[0;31mKeyboardInterrupt\u001b[0m                         Traceback (most recent call last)",
            "\u001b[0;32m/tmp/ipython-input-1784279736.py\u001b[0m in \u001b[0;36m<cell line: 0>\u001b[0;34m()\u001b[0m\n\u001b[1;32m      1\u001b[0m \u001b[0;31m# Iniciar el sistema\u001b[0m\u001b[0;34m\u001b[0m\u001b[0;34m\u001b[0m\u001b[0m\n\u001b[0;32m----> 2\u001b[0;31m \u001b[0miniciar_sistema\u001b[0m\u001b[0;34m(\u001b[0m\u001b[0;34m)\u001b[0m\u001b[0;34m\u001b[0m\u001b[0;34m\u001b[0m\u001b[0m\n\u001b[0m",
            "\u001b[0;32m/tmp/ipython-input-2700399582.py\u001b[0m in \u001b[0;36miniciar_sistema\u001b[0;34m()\u001b[0m\n\u001b[1;32m      2\u001b[0m     \u001b[0;32mwhile\u001b[0m \u001b[0;32mTrue\u001b[0m\u001b[0;34m:\u001b[0m\u001b[0;34m\u001b[0m\u001b[0;34m\u001b[0m\u001b[0m\n\u001b[1;32m      3\u001b[0m         \u001b[0mmostrar_menu\u001b[0m\u001b[0;34m(\u001b[0m\u001b[0;34m)\u001b[0m\u001b[0;34m\u001b[0m\u001b[0;34m\u001b[0m\u001b[0m\n\u001b[0;32m----> 4\u001b[0;31m         \u001b[0mopcion\u001b[0m \u001b[0;34m=\u001b[0m \u001b[0minput\u001b[0m\u001b[0;34m(\u001b[0m\u001b[0;34m\"Seleccione una opción: \"\u001b[0m\u001b[0;34m)\u001b[0m\u001b[0;34m\u001b[0m\u001b[0;34m\u001b[0m\u001b[0m\n\u001b[0m\u001b[1;32m      5\u001b[0m         \u001b[0;32mif\u001b[0m \u001b[0mopcion\u001b[0m \u001b[0;34m==\u001b[0m \u001b[0;34m\"1\"\u001b[0m\u001b[0;34m:\u001b[0m\u001b[0;34m\u001b[0m\u001b[0;34m\u001b[0m\u001b[0m\n\u001b[1;32m      6\u001b[0m             \u001b[0malta_libro\u001b[0m\u001b[0;34m(\u001b[0m\u001b[0;34m)\u001b[0m\u001b[0;34m\u001b[0m\u001b[0;34m\u001b[0m\u001b[0m\n",
            "\u001b[0;32m/usr/local/lib/python3.12/dist-packages/ipykernel/kernelbase.py\u001b[0m in \u001b[0;36mraw_input\u001b[0;34m(self, prompt)\u001b[0m\n\u001b[1;32m   1175\u001b[0m                 \u001b[0;34m\"raw_input was called, but this frontend does not support input requests.\"\u001b[0m\u001b[0;34m\u001b[0m\u001b[0;34m\u001b[0m\u001b[0m\n\u001b[1;32m   1176\u001b[0m             )\n\u001b[0;32m-> 1177\u001b[0;31m         return self._input_request(\n\u001b[0m\u001b[1;32m   1178\u001b[0m             \u001b[0mstr\u001b[0m\u001b[0;34m(\u001b[0m\u001b[0mprompt\u001b[0m\u001b[0;34m)\u001b[0m\u001b[0;34m,\u001b[0m\u001b[0;34m\u001b[0m\u001b[0;34m\u001b[0m\u001b[0m\n\u001b[1;32m   1179\u001b[0m             \u001b[0mself\u001b[0m\u001b[0;34m.\u001b[0m\u001b[0m_parent_ident\u001b[0m\u001b[0;34m[\u001b[0m\u001b[0;34m\"shell\"\u001b[0m\u001b[0;34m]\u001b[0m\u001b[0;34m,\u001b[0m\u001b[0;34m\u001b[0m\u001b[0;34m\u001b[0m\u001b[0m\n",
            "\u001b[0;32m/usr/local/lib/python3.12/dist-packages/ipykernel/kernelbase.py\u001b[0m in \u001b[0;36m_input_request\u001b[0;34m(self, prompt, ident, parent, password)\u001b[0m\n\u001b[1;32m   1217\u001b[0m             \u001b[0;32mexcept\u001b[0m \u001b[0mKeyboardInterrupt\u001b[0m\u001b[0;34m:\u001b[0m\u001b[0;34m\u001b[0m\u001b[0;34m\u001b[0m\u001b[0m\n\u001b[1;32m   1218\u001b[0m                 \u001b[0;31m# re-raise KeyboardInterrupt, to truncate traceback\u001b[0m\u001b[0;34m\u001b[0m\u001b[0;34m\u001b[0m\u001b[0m\n\u001b[0;32m-> 1219\u001b[0;31m                 \u001b[0;32mraise\u001b[0m \u001b[0mKeyboardInterrupt\u001b[0m\u001b[0;34m(\u001b[0m\u001b[0;34m\"Interrupted by user\"\u001b[0m\u001b[0;34m)\u001b[0m \u001b[0;32mfrom\u001b[0m \u001b[0;32mNone\u001b[0m\u001b[0;34m\u001b[0m\u001b[0;34m\u001b[0m\u001b[0m\n\u001b[0m\u001b[1;32m   1220\u001b[0m             \u001b[0;32mexcept\u001b[0m \u001b[0mException\u001b[0m\u001b[0;34m:\u001b[0m\u001b[0;34m\u001b[0m\u001b[0;34m\u001b[0m\u001b[0m\n\u001b[1;32m   1221\u001b[0m                 \u001b[0mself\u001b[0m\u001b[0;34m.\u001b[0m\u001b[0mlog\u001b[0m\u001b[0;34m.\u001b[0m\u001b[0mwarning\u001b[0m\u001b[0;34m(\u001b[0m\u001b[0;34m\"Invalid Message:\"\u001b[0m\u001b[0;34m,\u001b[0m \u001b[0mexc_info\u001b[0m\u001b[0;34m=\u001b[0m\u001b[0;32mTrue\u001b[0m\u001b[0;34m)\u001b[0m\u001b[0;34m\u001b[0m\u001b[0;34m\u001b[0m\u001b[0m\n",
            "\u001b[0;31mKeyboardInterrupt\u001b[0m: Interrupted by user"
          ]
        }
      ]
    }
  ]
}