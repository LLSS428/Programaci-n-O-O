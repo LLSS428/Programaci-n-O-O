{
  "nbformat": 4,
  "nbformat_minor": 0,
  "metadata": {
    "colab": {
      "provenance": [],
      "authorship_tag": "ABX9TyNeMZ/OSWDvryhMFN9zcL+z",
      "include_colab_link": true
    },
    "kernelspec": {
      "name": "python3",
      "display_name": "Python 3"
    },
    "language_info": {
      "name": "python"
    }
  },
  "cells": [
    {
      "cell_type": "markdown",
      "metadata": {
        "id": "view-in-github",
        "colab_type": "text"
      },
      "source": [
        "<a href=\"https://colab.research.google.com/github/LLSS428/Programaci-n-O-O/blob/main/Programa1.ipynb\" target=\"_parent\"><img src=\"https://colab.research.google.com/assets/colab-badge.svg\" alt=\"Open In Colab\"/></a>"
      ]
    },
    {
      "cell_type": "code",
      "execution_count": null,
      "metadata": {
        "id": "z12w6mYD3_Tf"
      },
      "outputs": [],
      "source": []
    },
    {
      "cell_type": "markdown",
      "source": [
        "\n",
        "# **Programación Orientada a Objetos**\n",
        "## **Unidad 1.- Introducción a POO**\n",
        "### Maestro: José Gabriel Rodriguez Rivas\n",
        "### Alumno: Leonel ALberto Ontiveros Vera"
      ],
      "metadata": {
        "id": "5BzcA-hG4XBQ"
      }
    },
    {
      "cell_type": "code",
      "source": [
        "# Declarar Variables\n",
        "# En Python no hay necesidad de declarar el tipo de variable\n",
        "# Cuando se le asigna el valor, automaticamente python ya sabe de que tipo es\n",
        "# Python es CASE SENSITIVE, es decir que es sensible a mayusculas a la hora de\n",
        "# declarar variables, por lo tanto no es lo mismo la variable x que la variable X\n",
        "X=5\n",
        "msg=\"Hola Mundo\"\n",
        "print(X, msg)"
      ],
      "metadata": {
        "colab": {
          "base_uri": "https://localhost:8080/"
        },
        "id": "u5PBBc_J6LFp",
        "outputId": "8e36f6f2-ead3-439d-80ed-dc5fdfb7a0a2"
      },
      "execution_count": 4,
      "outputs": [
        {
          "output_type": "stream",
          "name": "stdout",
          "text": [
            "5 Hola Mundo\n"
          ]
        }
      ]
    },
    {
      "cell_type": "code",
      "source": [
        "# Python es debilmente tipado, es decir, no hay necesidad de declarar el tipo\n",
        "# de variable, y además, la misma variable en un momento puede ser entera y en\n",
        "# otra string o booleana\n",
        "print(type (X))\n",
        "X=\"Hola\"\n",
        "print(type (X))"
      ],
      "metadata": {
        "colab": {
          "base_uri": "https://localhost:8080/"
        },
        "id": "VMAHiL326oHd",
        "outputId": "3f98ae2e-3b0e-4b80-bc20-c06d8022c4f6"
      },
      "execution_count": 6,
      "outputs": [
        {
          "output_type": "stream",
          "name": "stdout",
          "text": [
            "<class 'int'>\n",
            "<class 'str'>\n"
          ]
        }
      ]
    }
  ]
}