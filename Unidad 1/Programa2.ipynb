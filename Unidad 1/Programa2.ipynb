{
  "nbformat": 4,
  "nbformat_minor": 0,
  "metadata": {
    "colab": {
      "provenance": [],
      "include_colab_link": true
    },
    "kernelspec": {
      "name": "python3",
      "display_name": "Python 3"
    },
    "language_info": {
      "name": "python"
    }
  },
  "cells": [
    {
      "cell_type": "markdown",
      "metadata": {
        "id": "view-in-github",
        "colab_type": "text"
      },
      "source": [
        "<a href=\"https://colab.research.google.com/github/LLSS428/Programaci-n-O-O/blob/main/Unidad%201/Programa2.ipynb\" target=\"_parent\"><img src=\"https://colab.research.google.com/assets/colab-badge.svg\" alt=\"Open In Colab\"/></a>"
      ]
    },
    {
      "cell_type": "code",
      "execution_count": null,
      "metadata": {
        "id": "z12w6mYD3_Tf"
      },
      "outputs": [],
      "source": []
    },
    {
      "cell_type": "markdown",
      "source": [
        "\n",
        "# **Programación Orientada a Objetos**\n",
        "## **Unidad 1.- Introducción a POO**\n",
        "### Maestro: José Gabriel Rodriguez Rivas\n",
        "### Alumno: Leonel ALberto Ontiveros Vera"
      ],
      "metadata": {
        "id": "5BzcA-hG4XBQ"
      }
    },
    {
      "cell_type": "code",
      "source": [
        "# Declarar Variables\n",
        "# En Python no hay necesidad de declarar el tipo de variable\n",
        "# Cuando se le asigna el valor, automaticamente python ya sabe de que tipo es\n",
        "# Python es CASE SENSITIVE, es decir que es sensible a mayusculas a la hora de\n",
        "# declarar variables, por lo tanto no es lo mismo la variable x que la variable X\n",
        "X=5\n",
        "msg=\"Hola Mundo\"\n",
        "print(X, msg)"
      ],
      "metadata": {
        "colab": {
          "base_uri": "https://localhost:8080/"
        },
        "id": "u5PBBc_J6LFp",
        "outputId": "8e36f6f2-ead3-439d-80ed-dc5fdfb7a0a2"
      },
      "execution_count": null,
      "outputs": [
        {
          "output_type": "stream",
          "name": "stdout",
          "text": [
            "5 Hola Mundo\n"
          ]
        }
      ]
    },
    {
      "cell_type": "code",
      "source": [
        "# Python es debilmente tipado, es decir, no hay necesidad de declarar el tipo\n",
        "# de variable, y además, la misma variable en un momento puede ser entera y en\n",
        "# otra string o booleana\n",
        "X=1\n",
        "print(type (X))\n",
        "X=\"Hola\"\n",
        "print(type (X))"
      ],
      "metadata": {
        "colab": {
          "base_uri": "https://localhost:8080/"
        },
        "id": "VMAHiL326oHd",
        "outputId": "9b4357d6-9668-480c-f2d5-5045185b9415"
      },
      "execution_count": null,
      "outputs": [
        {
          "output_type": "stream",
          "name": "stdout",
          "text": [
            "<class 'int'>\n",
            "<class 'str'>\n"
          ]
        }
      ]
    },
    {
      "cell_type": "code",
      "source": [
        "# Input es para el ingreso de datos por parte del usuario\n",
        "variable=input(\"Escribe tu nombre: \")\n",
        "print(\"Tu nombre es: \", variable)"
      ],
      "metadata": {
        "colab": {
          "base_uri": "https://localhost:8080/"
        },
        "id": "PpRk8ZqgbL8G",
        "outputId": "d0a5fad2-0a4d-4ba0-ae0a-ee07f8a5350e"
      },
      "execution_count": null,
      "outputs": [
        {
          "output_type": "stream",
          "name": "stdout",
          "text": [
            "Escribe tu nombre: Chadbezuko\n",
            "Tu nombre es:  Chadbezuko\n"
          ]
        }
      ]
    },
    {
      "cell_type": "code",
      "source": [
        "# \\n es para dar un salto de renglon\n",
        "nom=input(\"¿Me puedes dar tu nombre porfavor? \")\n",
        "apll=input(\"¿Me puedes dar tu apellido porfavor? \")\n",
        "print(\"Gracias\")\n",
        "print(\"\\nTu nombre es\",nom,apll,\".\")"
      ],
      "metadata": {
        "colab": {
          "base_uri": "https://localhost:8080/"
        },
        "id": "dwJQFUqAcX4Q",
        "outputId": "a4892edd-fc24-46b0-99fe-2ac1189fab2a"
      },
      "execution_count": null,
      "outputs": [
        {
          "output_type": "stream",
          "name": "stdout",
          "text": [
            "¿Me puedes dar tu nombre porfavor? Fernan\n",
            "¿Me puedes dar tu apellido porfavor? El Crack\n",
            "Gracias\n",
            "\n",
            "Tu nombre es Fernan El Crack .\n"
          ]
        }
      ]
    },
    {
      "cell_type": "code",
      "source": [
        "# El dato ingresado en input se forma de tipo stirng, y al multiplicar\n",
        "# lo que hace es concatenarlo 5 veces en este caso\n",
        "x=input(\"Dame un numero para multiplicar \")\n",
        "z=x*5\n",
        "print(z)"
      ],
      "metadata": {
        "colab": {
          "base_uri": "https://localhost:8080/"
        },
        "id": "JCFDwbIKefQP",
        "outputId": "2f1f8185-6d00-40f5-d5ec-77fe5443cd6a"
      },
      "execution_count": null,
      "outputs": [
        {
          "output_type": "stream",
          "name": "stdout",
          "text": [
            "Dame un numero para multiplicar 5\n",
            "55555\n"
          ]
        }
      ]
    },
    {
      "cell_type": "code",
      "source": [
        "# Se especifica el tipo de dato el cual se va a ingresar antes del input\n",
        "x=int(input(\"Dame un numero para multiplicar \"))\n",
        "z=x*5\n",
        "print(z)"
      ],
      "metadata": {
        "colab": {
          "base_uri": "https://localhost:8080/"
        },
        "id": "td8-bKmQfXi4",
        "outputId": "a51cd3e9-7fe0-46de-a528-462249a7c578"
      },
      "execution_count": null,
      "outputs": [
        {
          "output_type": "stream",
          "name": "stdout",
          "text": [
            "Dame un numero para multiplicar 5\n",
            "25\n"
          ]
        }
      ]
    },
    {
      "cell_type": "code",
      "source": [
        "# El doble asterisco ** es para elevar a una potencia, en este caso al cuadrado\n",
        "cateto_a=float(input(\"Inserta la longitu del primer cateto: \"))\n",
        "cateto_b=float(input(\"Inserta la longitu del Segundo cateto: \"))\n",
        "hipo=(cateto_a**2+cateto_b**2)**.5\n",
        "print(\"La longitud de la hipotenusa es: \",hipo)"
      ],
      "metadata": {
        "colab": {
          "base_uri": "https://localhost:8080/"
        },
        "id": "OgCFT7Inf5P1",
        "outputId": "ad49284f-3f6c-4d9c-c144-046dbdc00805"
      },
      "execution_count": null,
      "outputs": [
        {
          "output_type": "stream",
          "name": "stdout",
          "text": [
            "Inserta la longitu del primer cateto: 12\n",
            "Inserta la longitu del Segundo cateto: 8\n",
            "La longitud de la hipotenusa es:  14.422205101855956\n"
          ]
        }
      ]
    },
    {
      "cell_type": "code",
      "source": [
        "a=3000\n",
        "b=12500\n",
        "if b>a:\n",
        "  print(\"b es mayor que a\")\n",
        "  print(b,\"es mayor que\",a)\n",
        "else:\n",
        "  print(\"a es mayor que b\")\n",
        "  print(a,\"es mayor que\",b)\n",
        "print(\"Fin del if\")"
      ],
      "metadata": {
        "colab": {
          "base_uri": "https://localhost:8080/"
        },
        "id": "5IA61SWIjsXo",
        "outputId": "757115fc-06b8-4261-c37f-c6264e94b493"
      },
      "execution_count": 1,
      "outputs": [
        {
          "output_type": "stream",
          "name": "stdout",
          "text": [
            "b es mayor que a\n",
            "12500 es mayor que 3000\n",
            "Fin del if\n"
          ]
        }
      ]
    },
    {
      "cell_type": "code",
      "source": [
        "# Para evaluar mas de una condición\n",
        "# elif es una avreviatura de else if\n",
        "a=3000\n",
        "b=3000\n",
        "if b>a:\n",
        "  print(\"b es mayor que a\")\n",
        "  print(\"b vale ->\",b)\n",
        "elif a==b:\n",
        "  print(\"a es igual que b\")\n",
        "  print(\"a y b valen ->\",a)\n",
        "else:\n",
        "  print (\"a es mayor que b\")\n",
        "  print(\"a vale ->\",a)\n",
        "print(\"Fin del if\")"
      ],
      "metadata": {
        "id": "m1GymQ9amuvF",
        "outputId": "22966619-c064-4d30-8648-28495e4d28ff",
        "colab": {
          "base_uri": "https://localhost:8080/"
        }
      },
      "execution_count": 3,
      "outputs": [
        {
          "output_type": "stream",
          "name": "stdout",
          "text": [
            "a es igual que b\n",
            "a y b valen -> 3000\n",
            "Fin del if\n"
          ]
        }
      ]
    },
    {
      "cell_type": "code",
      "source": [
        "# if simplificado en una sola linea\n",
        "# Primero se pone lo que se va a imprimir si la condición que está a su derecha\n",
        "# Se cumple, si no enseguida se pone el else para hacer la siguiente comparación\n",
        "x=50\n",
        "y=60\n",
        "print(\"x es mayor que y\") if (x>y) else print(\"y es mayor que x\")"
      ],
      "metadata": {
        "id": "GeB1aaQooMy_",
        "outputId": "1cc5db9b-fba1-4443-989e-5f076668704f",
        "colab": {
          "base_uri": "https://localhost:8080/"
        }
      },
      "execution_count": 4,
      "outputs": [
        {
          "output_type": "stream",
          "name": "stdout",
          "text": [
            "y es mayor que x\n"
          ]
        }
      ]
    },
    {
      "cell_type": "code",
      "source": [
        "# el += es una avreviatura de x=x+1\n",
        "x=1\n",
        "while x<=10:\n",
        "  print(x)\n",
        "  x+=1\n",
        "print(\"Fuera del while\")"
      ],
      "metadata": {
        "id": "JIW4Z01Po7Gt",
        "outputId": "a1965b12-d192-4e30-a611-b70bcb7f0a55",
        "colab": {
          "base_uri": "https://localhost:8080/"
        }
      },
      "execution_count": 5,
      "outputs": [
        {
          "output_type": "stream",
          "name": "stdout",
          "text": [
            "1\n",
            "2\n",
            "3\n",
            "4\n",
            "5\n",
            "6\n",
            "7\n",
            "8\n",
            "9\n",
            "10\n",
            "Fuera del while\n"
          ]
        }
      ]
    },
    {
      "cell_type": "code",
      "source": [
        "# Dentro del while se puede agrergar un break\n",
        "# Este hace que se salga del ciclo independientemente de la condición inicial\n",
        "x=1\n",
        "while x<=1000:\n",
        "  print(x)\n",
        "  if x==10:\n",
        "    print(\"Entro en el if\")\n",
        "    break\n",
        "  x+=1\n",
        "print(\"Fuera del while\")"
      ],
      "metadata": {
        "id": "dlqfKHmrqRa_",
        "outputId": "b5e93db4-974b-44b4-8b19-02773a60140d",
        "colab": {
          "base_uri": "https://localhost:8080/"
        }
      },
      "execution_count": 6,
      "outputs": [
        {
          "output_type": "stream",
          "name": "stdout",
          "text": [
            "1\n",
            "2\n",
            "3\n",
            "4\n",
            "5\n",
            "6\n",
            "7\n",
            "8\n",
            "9\n",
            "10\n",
            "Entro en el if\n",
            "Fuera del while\n"
          ]
        }
      ]
    },
    {
      "cell_type": "code",
      "source": [
        "# Las tres comillas sirven para hacer un texto largo de multiples lineas\n",
        "while(True):\n",
        "  print(\"\"\"Selecciona una opción\n",
        "  1) Opción 1\n",
        "  2) Opción 2\n",
        "  3) Salir\"\"\")\n",
        "  opcion=input(\"¿Que opcion deseas?\")\n",
        "  if opcion=='1':\n",
        "    print(\"Seleccionaste la opción 1\\n\")\n",
        "  elif opcion=='2':\n",
        "    print(\"Seleccionaste la opción 2\\n\")\n",
        "  elif opcion=='3':\n",
        "    print(\"Seleccionaste salir\\n\")\n",
        "    break\n",
        "  else:\n",
        "    print(\"Opción desconocida, ingresa una opción de la lista\")\n",
        "print(\"Fuera del ciclo\")"
      ],
      "metadata": {
        "id": "NwolBAAsrJ0O",
        "outputId": "ff289f5c-7d04-4354-b327-0ceed1c9dc9a",
        "colab": {
          "base_uri": "https://localhost:8080/"
        }
      },
      "execution_count": 10,
      "outputs": [
        {
          "output_type": "stream",
          "name": "stdout",
          "text": [
            "Selecciona una opción\n",
            "  1) Opción 1\n",
            "  2) Opción 2\n",
            "  3) Salir\n",
            "¿Que opcion deseas?6\n",
            "Opción desconocida, ingresa una opción de la lista\n",
            "Selecciona una opción\n",
            "  1) Opción 1\n",
            "  2) Opción 2\n",
            "  3) Salir\n",
            "¿Que opcion deseas?4\n",
            "Opción desconocida, ingresa una opción de la lista\n",
            "Selecciona una opción\n",
            "  1) Opción 1\n",
            "  2) Opción 2\n",
            "  3) Salir\n",
            "¿Que opcion deseas?3\n",
            "Seleccionaste salir\n",
            "\n",
            "Fuera del ciclo\n"
          ]
        }
      ]
    }
  ]
}