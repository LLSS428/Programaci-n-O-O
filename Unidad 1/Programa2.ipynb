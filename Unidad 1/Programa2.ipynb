{
  "nbformat": 4,
  "nbformat_minor": 0,
  "metadata": {
    "colab": {
      "provenance": [],
      "include_colab_link": true
    },
    "kernelspec": {
      "name": "python3",
      "display_name": "Python 3"
    },
    "language_info": {
      "name": "python"
    }
  },
  "cells": [
    {
      "cell_type": "markdown",
      "metadata": {
        "id": "view-in-github",
        "colab_type": "text"
      },
      "source": [
        "<a href=\"https://colab.research.google.com/github/LLSS428/Programaci-n-O-O/blob/main/Unidad%201/Programa2.ipynb\" target=\"_parent\"><img src=\"https://colab.research.google.com/assets/colab-badge.svg\" alt=\"Open In Colab\"/></a>"
      ]
    },
    {
      "cell_type": "markdown",
      "source": [
        "# **Programación Orientada a Objetos**\n",
        "## **Unidad 1**\n",
        "## **Grupo 2 Y**\n",
        "## **Programa 2**\n",
        "### Maestro: José Gabriel Rodriguez Rivas\n",
        "### Alumno: Leonel ALberto Ontiveros Vera"
      ],
      "metadata": {
        "id": "1Nbb2-regWgO"
      }
    },
    {
      "cell_type": "code",
      "execution_count": 2,
      "metadata": {
        "id": "TMc-GjkcgPaw"
      },
      "outputs": [],
      "source": [
        "# Se define la clase libro\n",
        "# self es una referencia al objeto actual (es decir, a si mismo)\n",
        "# Se utiliza para acceder a los atributos y métodos de la clase desde dentro\n",
        "# __init()__() es un método especial llamado \"Constructor\"\n",
        "# Se ejecuta automaticamente cuando se crea una nueva instancia (objeto) de la clase\n",
        "# Sirve para inicilizar los atributos del objeto con los valores que se le pasen\n",
        "class Libro:\n",
        "  def __init__(self,titulo,autor,isbn,precio): # Constructor de la clase\n",
        "    self.titulo=titulo\n",
        "    self.autor=autor\n",
        "    self.isbn=isbn\n",
        "    self.precio=precio\n",
        "\n",
        "  def mostrar_info(self): # Metodo\n",
        "  # f significa que se le va a dar un formato\n",
        "  # lo que esta entre llaves es una variable\n",
        "    return f\"{self.titulo} por {self.autor} - ISBN: {self.isbn}, Precio: ${self.precio}\""
      ]
    },
    {
      "cell_type": "code",
      "source": [
        "# Se crean una instancia concreta de una clase, con datos especificos\n",
        "libro1=Libro(\"Cien Años de Soledad\", \"Gabriel García Marquez\",\n",
        "             \"9780307474728\",350.00)\n",
        "libro2=Libro(\"1984\",\"George Orwell\",\"9780451524935\",220.50)"
      ],
      "metadata": {
        "id": "EUF3IUlskIqF"
      },
      "execution_count": 3,
      "outputs": []
    },
    {
      "cell_type": "code",
      "source": [
        "print(libro1.mostrar_info())\n",
        "print(libro2.mostrar_info())"
      ],
      "metadata": {
        "colab": {
          "base_uri": "https://localhost:8080/"
        },
        "id": "iBKmfRn0k7Ee",
        "outputId": "966c8f1d-0189-4658-ad9d-3c48a2cee7db"
      },
      "execution_count": 4,
      "outputs": [
        {
          "output_type": "stream",
          "name": "stdout",
          "text": [
            "Cien Años de Soledad por Gabriel García Marquez - ISBN: 9780307474728, Precio: $350.0\n",
            "1984 por George Orwell - ISBN: 9780451524935, Precio: $220.5\n"
          ]
        }
      ]
    },
    {
      "cell_type": "code",
      "source": [
        "class Prestamo:\n",
        "  def __init__(self,libro,cliente,fecha_inicio,fecha_devolucion):\n",
        "    self.libro=libro\n",
        "    self.cliente=cliente\n",
        "    self.fecha_inicio=fecha_inicio\n",
        "    self.fecha_devolucion=fecha_devolucion\n",
        "\n",
        "  def verificar_estado(self):\n",
        "    return f\"{self.libro}, lo tiene {self.cliente} - desde {self.fecha_inicio} - hasta {self.fecha_devolucion}\"\n",
        "  def renovar_prestamo(self):\n",
        "    return f\"Se renueva el prestamo hasta el {self.fecha_devolucion}\"\n",
        ""
      ],
      "metadata": {
        "id": "8rbMlzNguF_j"
      },
      "execution_count": 18,
      "outputs": []
    },
    {
      "cell_type": "code",
      "source": [
        "prestamo1=Prestamo(\"La guerra de los mundos\",\"Manuel Arturo Coronado\",\"10/09/25\",\"20/09/25\")\n",
        "prestamo2=Prestamo(\"El libro troll\",\"Eduardo Kbezuko\",\"20/08/25\",\"18/09/25\")"
      ],
      "metadata": {
        "id": "130iTycUuJzU"
      },
      "execution_count": 19,
      "outputs": []
    },
    {
      "cell_type": "code",
      "source": [
        "print(prestamo1.verificar_estado())\n",
        "print(prestamo2.renovar_prestamo())"
      ],
      "metadata": {
        "colab": {
          "base_uri": "https://localhost:8080/"
        },
        "id": "YdckzpSBxY8r",
        "outputId": "d10d51ec-f2fe-40db-af9c-109162ac43a4"
      },
      "execution_count": 21,
      "outputs": [
        {
          "output_type": "stream",
          "name": "stdout",
          "text": [
            "La guerra de los mundos, lo tiene Manuel Arturo Coronado - desde 10/09/25 - hasta 20/09/25\n",
            "Se renueva el prestamo hasta el 18/09/25\n"
          ]
        }
      ]
    },
    {
      "cell_type": "code",
      "source": [
        "class Cliente:\n",
        "  def __init__(self,email):\n",
        "    self.email=email\n",
        "  def comprar_libro(self):\n",
        "    return f\"el cliente con correo {self.email} compro un libro\"\n",
        "  def consultar_historia(self):\n",
        "    return f\"el correo asociado {self.email} cuenta con cierto historial\""
      ],
      "metadata": {
        "id": "-r-WNX8jyAgD"
      },
      "execution_count": 29,
      "outputs": []
    },
    {
      "cell_type": "code",
      "source": [
        "cliente1=Cliente(\"hackermanjackson@gmail.com\")\n",
        "cliente2=Cliente(\"iamtheboss420@gmail.com\")"
      ],
      "metadata": {
        "id": "vN0LPUTWzh4T"
      },
      "execution_count": 30,
      "outputs": []
    },
    {
      "cell_type": "code",
      "source": [
        "print(cliente1.comprar_libro())\n",
        "print(cliente2.consultar_historia())"
      ],
      "metadata": {
        "colab": {
          "base_uri": "https://localhost:8080/"
        },
        "id": "v7ljVyZ1z8vj",
        "outputId": "8af06237-a5b1-4049-f0ce-1b5954c76734"
      },
      "execution_count": 31,
      "outputs": [
        {
          "output_type": "stream",
          "name": "stdout",
          "text": [
            "el cliente con correo hackermanjackson@gmail.com compro un libro\n",
            "el correo asociado iamtheboss420@gmail.com cuenta con cierto historial\n"
          ]
        }
      ]
    },
    {
      "cell_type": "code",
      "source": [
        "class Venta:\n",
        "  def __init__(self,cliente,libros,total,fecha):\n",
        "    self.cliente=cliente\n",
        "    self.libros=libros\n",
        "    self.total=total\n",
        "    self.fecha=fecha\n",
        "  def calcular_total(self):\n",
        "    return f\"el total de la venta es de ${self.total}\"\n",
        "  def generar_ticket(self):\n",
        "    return f\"{self.fecha}\\ncliente: {self.cliente}\\nLibros: {self.libros}\\nTotal de venta: ${self.total}\""
      ],
      "metadata": {
        "id": "qV1x9urh0eA9"
      },
      "execution_count": 38,
      "outputs": []
    },
    {
      "cell_type": "code",
      "source": [
        "venta1=Venta(\"Uriel Lerma\",\"Red Dead Redemption 3\",250.00,\"30/09/25\")\n",
        "venta2=Venta(\"Kenni Galindo\",\"FNAF 38\",300.00,\"23/07/25\")"
      ],
      "metadata": {
        "id": "5n5TZLj83stT"
      },
      "execution_count": 40,
      "outputs": []
    },
    {
      "cell_type": "code",
      "source": [
        "print(venta1.generar_ticket())\n",
        "print(venta2.calcular_total())"
      ],
      "metadata": {
        "id": "2uh0OKOZ4aSO",
        "outputId": "4dd95487-0ee8-474b-d34f-eaba6981b33f",
        "colab": {
          "base_uri": "https://localhost:8080/"
        }
      },
      "execution_count": 41,
      "outputs": [
        {
          "output_type": "stream",
          "name": "stdout",
          "text": [
            "30/09/25\n",
            "cliente: Uriel Lerma\n",
            "Libros: Red Dead Redemption 3\n",
            "Total de venta: $250.0\n",
            "el total de la venta es de $300.0\n"
          ]
        }
      ]
    },
    {
      "cell_type": "code",
      "source": [
        "class Persona:\n",
        "  def __init__(self,nombre):\n",
        "    self.nombre=nombre"
      ],
      "metadata": {
        "id": "DkRSDJXs40AI"
      },
      "execution_count": 42,
      "outputs": []
    },
    {
      "cell_type": "code",
      "source": [
        "persona1=Persona(\"Chester Cheetos\")\n",
        "persona2=Persona(\"Solomeo Paredes\")"
      ],
      "metadata": {
        "id": "dblHKbV25a-5"
      },
      "execution_count": 43,
      "outputs": []
    },
    {
      "cell_type": "code",
      "source": [
        "print(persona1)"
      ],
      "metadata": {
        "id": "2FFQ_iDU5oQY",
        "outputId": "fb8bec93-c3b7-4a2c-d6a5-042b4c08c3a3",
        "colab": {
          "base_uri": "https://localhost:8080/"
        }
      },
      "execution_count": 44,
      "outputs": [
        {
          "output_type": "stream",
          "name": "stdout",
          "text": [
            "<__main__.Persona object at 0x7de2f21c3d40>\n"
          ]
        }
      ]
    }
  ]
}